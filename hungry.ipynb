{
 "cells": [
  {
   "cell_type": "code",
   "execution_count": 14,
   "id": "51def009",
   "metadata": {},
   "outputs": [
    {
     "name": "stdout",
     "output_type": "stream",
     "text": [
      "Are you hungry ?Yes\n",
      "eat samosa\n",
      "eat pizza\n",
      "eat burger\n",
      "eat fries\n"
     ]
    }
   ],
   "source": [
    "hungry= input(\"Are you hungry ?\")\n",
    "if hungry== \"Yes\":\n",
    "    print(\"eat samosa\")\n",
    "    print(\"eat pizza\")\n",
    "    print(\"eat burger\")\n",
    "    print(\"eat fries\")\n",
    "else:\n",
    "    print(\"Do your homework\")"
   ]
  },
  {
   "cell_type": "code",
   "execution_count": null,
   "id": "92b3b853",
   "metadata": {},
   "outputs": [],
   "source": []
  }
 ],
 "metadata": {
  "kernelspec": {
   "display_name": "Python 3 (ipykernel)",
   "language": "python",
   "name": "python3"
  },
  "language_info": {
   "codemirror_mode": {
    "name": "ipython",
    "version": 3
   },
   "file_extension": ".py",
   "mimetype": "text/x-python",
   "name": "python",
   "nbconvert_exporter": "python",
   "pygments_lexer": "ipython3",
   "version": "3.11.2"
  }
 },
 "nbformat": 4,
 "nbformat_minor": 5
}
