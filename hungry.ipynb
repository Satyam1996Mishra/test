{
 "cells": [
  {
   "cell_type": "code",
   "execution_count": 15,
   "id": "51def009",
   "metadata": {},
   "outputs": [
    {
     "name": "stdout",
     "output_type": "stream",
     "text": [
      "Are you hungry ?No\n",
      "are you thirsty ?Yes\n",
      "drink water\n",
      "drink soda\n"
     ]
    }
   ],
   "source": [
    "hungry= input(\"Are you hungry ?\")\n",
    "if hungry== \"Yes\":\n",
    "    print(\"eat samosa\")\n",
    "    print(\"eat pizza\")\n",
    "else:\n",
    "    thirsty= input(\"are you thirsty ?\")\n",
    "    if thirsty== \"Yes\":\n",
    "        print(\"drink water\")\n",
    "        print(\"drink soda\")"
   ]
  },
  {
   "cell_type": "code",
   "execution_count": null,
   "id": "92b3b853",
   "metadata": {},
   "outputs": [],
   "source": []
  }
 ],
 "metadata": {
  "kernelspec": {
   "display_name": "Python 3 (ipykernel)",
   "language": "python",
   "name": "python3"
  },
  "language_info": {
   "codemirror_mode": {
    "name": "ipython",
    "version": 3
   },
   "file_extension": ".py",
   "mimetype": "text/x-python",
   "name": "python",
   "nbconvert_exporter": "python",
   "pygments_lexer": "ipython3",
   "version": "3.11.2"
  }
 },
 "nbformat": 4,
 "nbformat_minor": 5
}
