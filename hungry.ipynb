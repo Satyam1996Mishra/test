{
 "cells": [
  {
   "cell_type": "code",
<<<<<<< HEAD
   "execution_count": 2,
=======
   "execution_count": 15,
>>>>>>> thirsty
   "id": "51def009",
   "metadata": {},
   "outputs": [
    {
     "name": "stdout",
     "output_type": "stream",
     "text": [
<<<<<<< HEAD
      "Are you hungry ?Yes\n",
      "eat samosa\n",
      "eat pizza\n",
      "eat burger\n",
      "eat fries\n",
      "eat maggi\n"
=======
      "Are you hungry ?No\n",
      "are you thirsty ?Yes\n",
      "drink water\n",
      "drink soda\n"
>>>>>>> thirsty
     ]
    }
   ],
   "source": [
    "hungry= input(\"Are you hungry ?\")\n",
    "if hungry== \"Yes\":\n",
    "    print(\"eat samosa\")\n",
    "    print(\"eat pizza\")\n",
    "    print(\"eat burger\")\n",
    "    print(\"eat fries\")\n",
    "    print(\"eat maggi\")\n",
    "else:\n",
    "    thirsty= input(\"are you thirsty ?\")\n",
    "    if thirsty== \"Yes\":\n",
    "        print(\"drink water\")\n",
    "        print(\"drink soda\")"
   ]
  },
  {
   "cell_type": "code",
   "execution_count": null,
   "id": "92b3b853",
   "metadata": {},
   "outputs": [],
   "source": []
  }
 ],
 "metadata": {
  "kernelspec": {
   "display_name": "Python 3 (ipykernel)",
   "language": "python",
   "name": "python3"
  },
  "language_info": {
   "codemirror_mode": {
    "name": "ipython",
    "version": 3
   },
   "file_extension": ".py",
   "mimetype": "text/x-python",
   "name": "python",
   "nbconvert_exporter": "python",
   "pygments_lexer": "ipython3",
   "version": "3.11.2"
  }
 },
 "nbformat": 4,
 "nbformat_minor": 5
}
